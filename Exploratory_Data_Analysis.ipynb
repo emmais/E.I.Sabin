{
 "cells": [
  {
   "cell_type": "code",
   "execution_count": 1,
   "metadata": {},
   "outputs": [
    {
     "data": {
      "text/html": [
       "<div>\n",
       "<style scoped>\n",
       "    .dataframe tbody tr th:only-of-type {\n",
       "        vertical-align: middle;\n",
       "    }\n",
       "\n",
       "    .dataframe tbody tr th {\n",
       "        vertical-align: top;\n",
       "    }\n",
       "\n",
       "    .dataframe thead th {\n",
       "        text-align: right;\n",
       "    }\n",
       "</style>\n",
       "<table border=\"1\" class=\"dataframe\">\n",
       "  <thead>\n",
       "    <tr style=\"text-align: right;\">\n",
       "      <th></th>\n",
       "      <th>Site_Burial</th>\n",
       "      <th>State</th>\n",
       "      <th>Sample</th>\n",
       "      <th>Cr</th>\n",
       "      <th>Mn</th>\n",
       "      <th>Fe</th>\n",
       "      <th>Co</th>\n",
       "      <th>Ni</th>\n",
       "      <th>Cu</th>\n",
       "      <th>Zn</th>\n",
       "      <th>As</th>\n",
       "      <th>Se</th>\n",
       "      <th>Ag</th>\n",
       "      <th>Sn</th>\n",
       "      <th>Sb</th>\n",
       "      <th>Au</th>\n",
       "      <th>Pb</th>\n",
       "      <th>Bi</th>\n",
       "    </tr>\n",
       "    <tr>\n",
       "      <th>ANID</th>\n",
       "      <th></th>\n",
       "      <th></th>\n",
       "      <th></th>\n",
       "      <th></th>\n",
       "      <th></th>\n",
       "      <th></th>\n",
       "      <th></th>\n",
       "      <th></th>\n",
       "      <th></th>\n",
       "      <th></th>\n",
       "      <th></th>\n",
       "      <th></th>\n",
       "      <th></th>\n",
       "      <th></th>\n",
       "      <th></th>\n",
       "      <th></th>\n",
       "      <th></th>\n",
       "      <th></th>\n",
       "    </tr>\n",
       "  </thead>\n",
       "  <tbody>\n",
       "    <tr>\n",
       "      <th>GDL001</th>\n",
       "      <td>Lister</td>\n",
       "      <td>NJ</td>\n",
       "      <td>Artifact</td>\n",
       "      <td>12.068216</td>\n",
       "      <td>0.0</td>\n",
       "      <td>25.160330</td>\n",
       "      <td>0.038567</td>\n",
       "      <td>0.202703</td>\n",
       "      <td>999697.982306</td>\n",
       "      <td>1.342716</td>\n",
       "      <td>0.489401</td>\n",
       "      <td>0.000000</td>\n",
       "      <td>262.042867</td>\n",
       "      <td>0.011563</td>\n",
       "      <td>0.046115</td>\n",
       "      <td>0.000000</td>\n",
       "      <td>0.574025</td>\n",
       "      <td>0.041191</td>\n",
       "    </tr>\n",
       "    <tr>\n",
       "      <th>GDL002</th>\n",
       "      <td>Lister</td>\n",
       "      <td>NJ</td>\n",
       "      <td>Artifact</td>\n",
       "      <td>35.744190</td>\n",
       "      <td>0.0</td>\n",
       "      <td>393.468433</td>\n",
       "      <td>0.170943</td>\n",
       "      <td>1.140631</td>\n",
       "      <td>999478.141048</td>\n",
       "      <td>5.365543</td>\n",
       "      <td>22.372640</td>\n",
       "      <td>4.643938</td>\n",
       "      <td>53.488031</td>\n",
       "      <td>0.096246</td>\n",
       "      <td>0.230051</td>\n",
       "      <td>0.001335</td>\n",
       "      <td>3.908394</td>\n",
       "      <td>1.228576</td>\n",
       "    </tr>\n",
       "    <tr>\n",
       "      <th>GDL003</th>\n",
       "      <td>Lister</td>\n",
       "      <td>NJ</td>\n",
       "      <td>Artifact</td>\n",
       "      <td>43.142662</td>\n",
       "      <td>0.0</td>\n",
       "      <td>1219.034329</td>\n",
       "      <td>0.378246</td>\n",
       "      <td>2.230752</td>\n",
       "      <td>998695.838465</td>\n",
       "      <td>5.219331</td>\n",
       "      <td>7.910353</td>\n",
       "      <td>1.254788</td>\n",
       "      <td>22.416825</td>\n",
       "      <td>0.039123</td>\n",
       "      <td>0.109676</td>\n",
       "      <td>0.000000</td>\n",
       "      <td>2.375983</td>\n",
       "      <td>0.049466</td>\n",
       "    </tr>\n",
       "    <tr>\n",
       "      <th>GDL004</th>\n",
       "      <td>Lister</td>\n",
       "      <td>NJ</td>\n",
       "      <td>Artifact</td>\n",
       "      <td>336.280570</td>\n",
       "      <td>0.0</td>\n",
       "      <td>2111.190259</td>\n",
       "      <td>0.440908</td>\n",
       "      <td>4.409549</td>\n",
       "      <td>997489.230602</td>\n",
       "      <td>4.307899</td>\n",
       "      <td>32.675812</td>\n",
       "      <td>4.791199</td>\n",
       "      <td>11.801586</td>\n",
       "      <td>0.066135</td>\n",
       "      <td>0.248599</td>\n",
       "      <td>0.004525</td>\n",
       "      <td>4.540566</td>\n",
       "      <td>0.011791</td>\n",
       "    </tr>\n",
       "    <tr>\n",
       "      <th>GDL005</th>\n",
       "      <td>Lister</td>\n",
       "      <td>NJ</td>\n",
       "      <td>Artifact</td>\n",
       "      <td>5.722844</td>\n",
       "      <td>0.0</td>\n",
       "      <td>75.097867</td>\n",
       "      <td>0.045153</td>\n",
       "      <td>0.209395</td>\n",
       "      <td>999872.356070</td>\n",
       "      <td>0.869652</td>\n",
       "      <td>6.342742</td>\n",
       "      <td>1.479191</td>\n",
       "      <td>37.475147</td>\n",
       "      <td>0.028733</td>\n",
       "      <td>0.032311</td>\n",
       "      <td>0.002385</td>\n",
       "      <td>0.282574</td>\n",
       "      <td>0.055938</td>\n",
       "    </tr>\n",
       "  </tbody>\n",
       "</table>\n",
       "</div>"
      ],
      "text/plain": [
       "       Site_Burial State    Sample          Cr   Mn           Fe        Co  \\\n",
       "ANID                                                                         \n",
       "GDL001      Lister    NJ  Artifact   12.068216  0.0    25.160330  0.038567   \n",
       "GDL002      Lister    NJ  Artifact   35.744190  0.0   393.468433  0.170943   \n",
       "GDL003      Lister    NJ  Artifact   43.142662  0.0  1219.034329  0.378246   \n",
       "GDL004      Lister    NJ  Artifact  336.280570  0.0  2111.190259  0.440908   \n",
       "GDL005      Lister    NJ  Artifact    5.722844  0.0    75.097867  0.045153   \n",
       "\n",
       "              Ni             Cu        Zn         As        Se          Ag  \\\n",
       "ANID                                                                         \n",
       "GDL001  0.202703  999697.982306  1.342716   0.489401  0.000000  262.042867   \n",
       "GDL002  1.140631  999478.141048  5.365543  22.372640  4.643938   53.488031   \n",
       "GDL003  2.230752  998695.838465  5.219331   7.910353  1.254788   22.416825   \n",
       "GDL004  4.409549  997489.230602  4.307899  32.675812  4.791199   11.801586   \n",
       "GDL005  0.209395  999872.356070  0.869652   6.342742  1.479191   37.475147   \n",
       "\n",
       "              Sn        Sb        Au        Pb        Bi  \n",
       "ANID                                                      \n",
       "GDL001  0.011563  0.046115  0.000000  0.574025  0.041191  \n",
       "GDL002  0.096246  0.230051  0.001335  3.908394  1.228576  \n",
       "GDL003  0.039123  0.109676  0.000000  2.375983  0.049466  \n",
       "GDL004  0.066135  0.248599  0.004525  4.540566  0.011791  \n",
       "GDL005  0.028733  0.032311  0.002385  0.282574  0.055938  "
      ]
     },
     "execution_count": 1,
     "metadata": {},
     "output_type": "execute_result"
    }
   ],
   "source": [
    "import pandas as pd\n",
    "from pandas import DataFrame\n",
    "import numpy as np\n",
    "%matplotlib inline\n",
    "import matplotlib.pyplot as plt \n",
    "import seaborn as sns\n",
    "df1 = pd.read_excel('Master_file_Lattanzi_Cu_2012_ES_v2.xlsx', index_col=0)\n",
    "\n",
    "df1.head(5)"
   ]
  },
  {
   "cell_type": "code",
   "execution_count": 2,
   "metadata": {},
   "outputs": [
    {
     "data": {
      "text/html": [
       "<div>\n",
       "<style scoped>\n",
       "    .dataframe tbody tr th:only-of-type {\n",
       "        vertical-align: middle;\n",
       "    }\n",
       "\n",
       "    .dataframe tbody tr th {\n",
       "        vertical-align: top;\n",
       "    }\n",
       "\n",
       "    .dataframe thead th {\n",
       "        text-align: right;\n",
       "    }\n",
       "</style>\n",
       "<table border=\"1\" class=\"dataframe\">\n",
       "  <thead>\n",
       "    <tr style=\"text-align: right;\">\n",
       "      <th></th>\n",
       "      <th>Site_Burial</th>\n",
       "      <th>State</th>\n",
       "      <th>Sample</th>\n",
       "      <th>Cr</th>\n",
       "      <th>Mn</th>\n",
       "      <th>Fe</th>\n",
       "      <th>Co</th>\n",
       "      <th>Ni</th>\n",
       "      <th>Cu</th>\n",
       "      <th>Zn</th>\n",
       "      <th>As</th>\n",
       "      <th>Se</th>\n",
       "      <th>Ag</th>\n",
       "      <th>Sn</th>\n",
       "      <th>Sb</th>\n",
       "      <th>Au</th>\n",
       "      <th>Pb</th>\n",
       "      <th>Bi</th>\n",
       "    </tr>\n",
       "    <tr>\n",
       "      <th>ANID</th>\n",
       "      <th></th>\n",
       "      <th></th>\n",
       "      <th></th>\n",
       "      <th></th>\n",
       "      <th></th>\n",
       "      <th></th>\n",
       "      <th></th>\n",
       "      <th></th>\n",
       "      <th></th>\n",
       "      <th></th>\n",
       "      <th></th>\n",
       "      <th></th>\n",
       "      <th></th>\n",
       "      <th></th>\n",
       "      <th></th>\n",
       "      <th></th>\n",
       "      <th></th>\n",
       "      <th></th>\n",
       "    </tr>\n",
       "  </thead>\n",
       "  <tbody>\n",
       "    <tr>\n",
       "      <th>GDL001</th>\n",
       "      <td>Lister</td>\n",
       "      <td>NJ</td>\n",
       "      <td>Artifact</td>\n",
       "      <td>12.068216</td>\n",
       "      <td>0.0</td>\n",
       "      <td>25.16033</td>\n",
       "      <td>0.038567</td>\n",
       "      <td>0.202703</td>\n",
       "      <td>999697.982306</td>\n",
       "      <td>1.342716</td>\n",
       "      <td>0.489401</td>\n",
       "      <td>0.0</td>\n",
       "      <td>262.042867</td>\n",
       "      <td>0.011563</td>\n",
       "      <td>0.046115</td>\n",
       "      <td>0.0</td>\n",
       "      <td>0.574025</td>\n",
       "      <td>0.041191</td>\n",
       "    </tr>\n",
       "  </tbody>\n",
       "</table>\n",
       "</div>"
      ],
      "text/plain": [
       "       Site_Burial State    Sample         Cr   Mn        Fe        Co  \\\n",
       "ANID                                                                     \n",
       "GDL001      Lister    NJ  Artifact  12.068216  0.0  25.16033  0.038567   \n",
       "\n",
       "              Ni             Cu        Zn        As   Se          Ag  \\\n",
       "ANID                                                                   \n",
       "GDL001  0.202703  999697.982306  1.342716  0.489401  0.0  262.042867   \n",
       "\n",
       "              Sn        Sb   Au        Pb        Bi  \n",
       "ANID                                                 \n",
       "GDL001  0.011563  0.046115  0.0  0.574025  0.041191  "
      ]
     },
     "execution_count": 2,
     "metadata": {},
     "output_type": "execute_result"
    }
   ],
   "source": [
    "df1.rename(columns={'Site/Burial': 'Site_Burial'}, inplace=True)\n",
    "df1.head(1)"
   ]
  },
  {
   "cell_type": "code",
   "execution_count": 3,
   "metadata": {},
   "outputs": [
    {
     "name": "stdout",
     "output_type": "stream",
     "text": [
      "<class 'pandas.core.frame.DataFrame'>\n",
      "Index: 556 entries, GDL001 to GDL578b\n",
      "Data columns (total 18 columns):\n",
      "Site_Burial    556 non-null object\n",
      "State          556 non-null object\n",
      "Sample         556 non-null object\n",
      "Cr             556 non-null float64\n",
      "Mn             556 non-null float64\n",
      "Fe             556 non-null float64\n",
      "Co             556 non-null float64\n",
      "Ni             556 non-null float64\n",
      "Cu             556 non-null float64\n",
      "Zn             556 non-null float64\n",
      "As             556 non-null float64\n",
      "Se             556 non-null float64\n",
      "Ag             556 non-null float64\n",
      "Sn             556 non-null float64\n",
      "Sb             556 non-null float64\n",
      "Au             556 non-null float64\n",
      "Pb             556 non-null float64\n",
      "Bi             556 non-null float64\n",
      "dtypes: float64(15), object(3)\n",
      "memory usage: 82.5+ KB\n"
     ]
    }
   ],
   "source": [
    "df1.info()"
   ]
  },
  {
   "cell_type": "code",
   "execution_count": 4,
   "metadata": {},
   "outputs": [],
   "source": [
    "df1['Site_Burial'] = df1['Site_Burial'].astype('category')\n",
    "df1['State'] = df1['State'].astype('category')\n",
    "df1['Sample'] = df1['Sample'].astype('category')"
   ]
  },
  {
   "cell_type": "code",
   "execution_count": 5,
   "metadata": {},
   "outputs": [
    {
     "name": "stdout",
     "output_type": "stream",
     "text": [
      "<class 'pandas.core.frame.DataFrame'>\n",
      "Index: 556 entries, GDL001 to GDL578b\n",
      "Data columns (total 18 columns):\n",
      "Site_Burial    556 non-null category\n",
      "State          556 non-null category\n",
      "Sample         556 non-null category\n",
      "Cr             556 non-null float64\n",
      "Mn             556 non-null float64\n",
      "Fe             556 non-null float64\n",
      "Co             556 non-null float64\n",
      "Ni             556 non-null float64\n",
      "Cu             556 non-null float64\n",
      "Zn             556 non-null float64\n",
      "As             556 non-null float64\n",
      "Se             556 non-null float64\n",
      "Ag             556 non-null float64\n",
      "Sn             556 non-null float64\n",
      "Sb             556 non-null float64\n",
      "Au             556 non-null float64\n",
      "Pb             556 non-null float64\n",
      "Bi             556 non-null float64\n",
      "dtypes: category(3), float64(15)\n",
      "memory usage: 71.8+ KB\n"
     ]
    }
   ],
   "source": [
    "df1.info()"
   ]
  },
  {
   "cell_type": "code",
   "execution_count": 6,
   "metadata": {},
   "outputs": [
    {
     "data": {
      "text/html": [
       "<div>\n",
       "<style scoped>\n",
       "    .dataframe tbody tr th:only-of-type {\n",
       "        vertical-align: middle;\n",
       "    }\n",
       "\n",
       "    .dataframe tbody tr th {\n",
       "        vertical-align: top;\n",
       "    }\n",
       "\n",
       "    .dataframe thead th {\n",
       "        text-align: right;\n",
       "    }\n",
       "</style>\n",
       "<table border=\"1\" class=\"dataframe\">\n",
       "  <thead>\n",
       "    <tr style=\"text-align: right;\">\n",
       "      <th></th>\n",
       "      <th>Site_Burial</th>\n",
       "      <th>State</th>\n",
       "      <th>Sample</th>\n",
       "    </tr>\n",
       "  </thead>\n",
       "  <tbody>\n",
       "    <tr>\n",
       "      <th>count</th>\n",
       "      <td>556</td>\n",
       "      <td>556</td>\n",
       "      <td>556</td>\n",
       "    </tr>\n",
       "    <tr>\n",
       "      <th>unique</th>\n",
       "      <td>5</td>\n",
       "      <td>8</td>\n",
       "      <td>2</td>\n",
       "    </tr>\n",
       "    <tr>\n",
       "      <th>top</th>\n",
       "      <td>Nassawango</td>\n",
       "      <td>NJ</td>\n",
       "      <td>Artifact</td>\n",
       "    </tr>\n",
       "    <tr>\n",
       "      <th>freq</th>\n",
       "      <td>192</td>\n",
       "      <td>329</td>\n",
       "      <td>498</td>\n",
       "    </tr>\n",
       "  </tbody>\n",
       "</table>\n",
       "</div>"
      ],
      "text/plain": [
       "       Site_Burial State    Sample\n",
       "count          556   556       556\n",
       "unique           5     8         2\n",
       "top     Nassawango    NJ  Artifact\n",
       "freq           192   329       498"
      ]
     },
     "execution_count": 6,
     "metadata": {},
     "output_type": "execute_result"
    }
   ],
   "source": [
    "df1.describe(include=['category'])"
   ]
  },
  {
   "cell_type": "code",
   "execution_count": 7,
   "metadata": {},
   "outputs": [
    {
     "data": {
      "text/plain": [
       "Nassawango     192\n",
       "Abbott Farm    118\n",
       "Rosenkrans      91\n",
       "Lister          90\n",
       "Non-Burial      65\n",
       "Name: Site_Burial, dtype: int64"
      ]
     },
     "execution_count": 7,
     "metadata": {},
     "output_type": "execute_result"
    }
   ],
   "source": [
    "df1.Site_Burial.value_counts()"
   ]
  },
  {
   "cell_type": "code",
   "execution_count": 8,
   "metadata": {},
   "outputs": [
    {
     "data": {
      "text/plain": [
       "NJ    329\n",
       "MD    192\n",
       "PA     10\n",
       "MI     10\n",
       "CA      6\n",
       "NC      5\n",
       "NY      3\n",
       "VA      1\n",
       "Name: State, dtype: int64"
      ]
     },
     "execution_count": 8,
     "metadata": {},
     "output_type": "execute_result"
    }
   ],
   "source": [
    "df1.State.value_counts()"
   ]
  },
  {
   "cell_type": "code",
   "execution_count": 9,
   "metadata": {},
   "outputs": [
    {
     "data": {
      "text/plain": [
       "Artifact    498\n",
       "Geo          58\n",
       "Name: Sample, dtype: int64"
      ]
     },
     "execution_count": 9,
     "metadata": {},
     "output_type": "execute_result"
    }
   ],
   "source": [
    "df1.Sample.value_counts()"
   ]
  },
  {
   "cell_type": "code",
   "execution_count": 10,
   "metadata": {},
   "outputs": [
    {
     "name": "stdout",
     "output_type": "stream",
     "text": [
      "State\n",
      "CA      6\n",
      "MD    192\n",
      "MI     10\n",
      "NC      5\n",
      "NJ    329\n",
      "NY      3\n",
      "PA     10\n",
      "VA      1\n",
      "Name: Sample, dtype: int64\n"
     ]
    }
   ],
   "source": [
    "# Number Samples per state\n",
    "State = df1.groupby(['State'])\n",
    "State_by_Sample = State['Sample'].count()\n",
    "print(State_by_Sample)"
   ]
  },
  {
   "cell_type": "code",
   "execution_count": 11,
   "metadata": {},
   "outputs": [
    {
     "name": "stdout",
     "output_type": "stream",
     "text": [
      "Sample    State\n",
      "Artifact  MD       192\n",
      "          NJ       305\n",
      "          VA         1\n",
      "Geo       CA         6\n",
      "          MI        10\n",
      "          NC         5\n",
      "          NJ        24\n",
      "          NY         3\n",
      "          PA        10\n",
      "Name: State, dtype: int64\n"
     ]
    }
   ],
   "source": [
    "# Number of Samples per state by type of Sample\n",
    "sample_type = df1.groupby(['Sample', 'State'])\n",
    "sample_by_state = sample_type.State.count()\n",
    "print(sample_by_state)"
   ]
  },
  {
   "cell_type": "code",
   "execution_count": 12,
   "metadata": {},
   "outputs": [
    {
     "data": {
      "image/png": "[encoded data removed]",
      "text/plain": [
       "<Figure size 432x288 with 1 Axes>"
      ]
     },
     "metadata": {
      "needs_background": "light"
     },
     "output_type": "display_data"
    }
   ],
   "source": [
    "#Now, how do I illustrate this with stacked bars? \n",
    "ax = sns.countplot(x=\"State\", hue=\"Sample\", data=df1)\n"
   ]
  },
  {
   "cell_type": "code",
   "execution_count": 13,
   "metadata": {},
   "outputs": [
    {
     "data": {
      "image/png": "[encoded data removed]",
      "text/plain": [
       "<Figure size 432x288 with 1 Axes>"
      ]
     },
     "metadata": {
      "needs_background": "light"
     },
     "output_type": "display_data"
    }
   ],
   "source": [
    "#'Cr', 'Mn', 'Fe', 'Co', 'Ni', 'Cu',\n",
    "      # 'Zn', 'As', 'Se', 'Ag', 'Sn', 'Sb', 'Au', 'Pb', 'Bi'\n",
    "ax1 = sns.stripplot(x=\"State\", y=\"Cu\", data=df1, hue=\"Sample\")\n"
   ]
  },
  {
   "cell_type": "code",
   "execution_count": 14,
   "metadata": {},
   "outputs": [
    {
     "data": {
      "image/png": "[encoded data removed]",
      "text/plain": [
       "<Figure size 432x288 with 1 Axes>"
      ]
     },
     "metadata": {
      "needs_background": "light"
     },
     "output_type": "display_data"
    }
   ],
   "source": [
    "#'Cr', 'Mn', 'Fe', 'Co', 'Ni', 'Cu',\n",
    "      # 'Zn', 'As', 'Se', 'Ag', 'Sn', 'Sb', 'Au', 'Pb', 'Bi'\n",
    "\n",
    "ax2 = sns.stripplot(x=\"State\", y=\"Cr\", data=df1, hue=\"Sample\")\n"
   ]
  },
  {
   "cell_type": "code",
   "execution_count": 15,
   "metadata": {},
   "outputs": [
    {
     "data": {
      "image/png": "[encoded data removed]",
      "text/plain": [
       "<Figure size 432x288 with 1 Axes>"
      ]
     },
     "metadata": {
      "needs_background": "light"
     },
     "output_type": "display_data"
    }
   ],
   "source": [
    "#'Cr', 'Mn', 'Fe', 'Co', 'Ni', 'Cu',\n",
    "      # 'Zn', 'As', 'Se', 'Ag', 'Sn', 'Sb', 'Au', 'Pb', 'Bi'\n",
    "\n",
    "ax3 = sns.stripplot(x=\"State\", y=\"Mn\", data=df1, hue=\"Sample\")\n"
   ]
  },
  {
   "cell_type": "code",
   "execution_count": 16,
   "metadata": {},
   "outputs": [
    {
     "data": {
      "image/png": "[encoded data removed]",
      "text/plain": [
       "<Figure size 432x288 with 1 Axes>"
      ]
     },
     "metadata": {
      "needs_background": "light"
     },
     "output_type": "display_data"
    }
   ],
   "source": [
    "#'Cr', 'Mn', 'Fe', 'Co', 'Ni', 'Cu',\n",
    "      # 'Zn', 'As', 'Se', 'Ag', 'Sn', 'Sb', 'Au', 'Pb', 'Bi'\n",
    "ax4 = sns.stripplot(x=\"State\", y=\"Fe\", data=df1, hue=\"Sample\")\n"
   ]
  },
  {
   "cell_type": "code",
   "execution_count": 17,
   "metadata": {},
   "outputs": [
    {
     "data": {
      "image/png": "[encoded data removed]",
      "text/plain": [
       "<Figure size 432x288 with 1 Axes>"
      ]
     },
     "metadata": {
      "needs_background": "light"
     },
     "output_type": "display_data"
    }
   ],
   "source": [
    "#'Cr', 'Mn', 'Fe', 'Co', 'Ni', 'Cu',\n",
    "      # 'Zn', 'As', 'Se', 'Ag', 'Sn', 'Sb', 'Au', 'Pb', 'Bi'\n",
    "\n",
    "ax5 = sns.stripplot(x=\"State\", y=\"Co\", data=df1, hue=\"Sample\")\n"
   ]
  },
  {
   "cell_type": "code",
   "execution_count": 18,
   "metadata": {},
   "outputs": [
    {
     "data": {
      "image/png": "[encoded data removed]",
      "text/plain": [
       "<Figure size 432x288 with 1 Axes>"
      ]
     },
     "metadata": {
      "needs_background": "light"
     },
     "output_type": "display_data"
    }
   ],
   "source": [
    "#'Cr', 'Mn', 'Fe', 'Co', 'Ni', 'Cu',\n",
    "      # 'Zn', 'As', 'Se', 'Ag', 'Sn', 'Sb', 'Au', 'Pb', 'Bi'\n",
    "\n",
    "ax6 = sns.stripplot(x=\"State\", y=\"Ni\", data=df1, hue=\"Sample\")\n"
   ]
  },
  {
   "cell_type": "code",
   "execution_count": 19,
   "metadata": {},
   "outputs": [
    {
     "data": {
      "image/png": "[encoded data removed]",
      "text/plain": [
       "<Figure size 432x288 with 1 Axes>"
      ]
     },
     "metadata": {
      "needs_background": "light"
     },
     "output_type": "display_data"
    }
   ],
   "source": [
    "#'Cr', 'Mn', 'Fe', 'Co', 'Ni', 'Cu',\n",
    "      # 'Zn', 'As', 'Se', 'Ag', 'Sn', 'Sb', 'Au', 'Pb', 'Bi'\n",
    "\n",
    "ax7 = sns.stripplot(x=\"State\", y=\"Zn\", data=df1, hue=\"Sample\")\n"
   ]
  },
  {
   "cell_type": "code",
   "execution_count": 20,
   "metadata": {},
   "outputs": [
    {
     "data": {
      "image/png": "[encoded data removed]",
      "text/plain": [
       "<Figure size 432x288 with 1 Axes>"
      ]
     },
     "metadata": {
      "needs_background": "light"
     },
     "output_type": "display_data"
    }
   ],
   "source": [
    "#'Cr', 'Mn', 'Fe', 'Co', 'Ni', 'Cu',\n",
    "      # 'Zn', 'As', 'Se', 'Ag', 'Sn', 'Sb', 'Au', 'Pb', 'Bi'\n",
    "\n",
    "ax8 = sns.stripplot(x=\"State\", y=\"As\", data=df1, hue=\"Sample\")\n"
   ]
  },
  {
   "cell_type": "code",
   "execution_count": 21,
   "metadata": {},
   "outputs": [
    {
     "data": {
      "image/png": "[encoded data removed]",
      "text/plain": [
       "<Figure size 432x288 with 1 Axes>"
      ]
     },
     "metadata": {
      "needs_background": "light"
     },
     "output_type": "display_data"
    }
   ],
   "source": [
    "#'Cr', 'Mn', 'Fe', 'Co', 'Ni', 'Cu',\n",
    "      # 'Zn', 'As', 'Se', 'Ag', 'Sn', 'Sb', 'Au', 'Pb', 'Bi'\n",
    "\n",
    "ax8 = sns.stripplot(x=\"State\", y=\"As\", data=df1, hue=\"Sample\")\n"
   ]
  },
  {
   "cell_type": "code",
   "execution_count": 22,
   "metadata": {},
   "outputs": [
    {
     "data": {
      "image/png": "[encoded data removed]",
      "text/plain": [
       "<Figure size 432x288 with 1 Axes>"
      ]
     },
     "metadata": {
      "needs_background": "light"
     },
     "output_type": "display_data"
    }
   ],
   "source": [
    "#'Cr', 'Mn', 'Fe', 'Co', 'Ni', 'Cu',\n",
    "      # 'Zn', 'As', 'Se', 'Ag', 'Sn', 'Sb', 'Au', 'Pb', 'Bi'\n",
    "ax9 = sns.stripplot(x=\"State\", y=\"Se\", data=df1, hue=\"Sample\")\n"
   ]
  },
  {
   "cell_type": "code",
   "execution_count": 23,
   "metadata": {},
   "outputs": [
    {
     "data": {
      "image/png": "[encoded data removed]",
      "text/plain": [
       "<Figure size 432x288 with 1 Axes>"
      ]
     },
     "metadata": {
      "needs_background": "light"
     },
     "output_type": "display_data"
    }
   ],
   "source": [
    "#'Cr', 'Mn', 'Fe', 'Co', 'Ni', 'Cu',\n",
    "      # 'Zn', 'As', 'Se', 'Ag', 'Sn', 'Sb', 'Au', 'Pb', 'Bi'\n",
    "\n",
    "ax10 = sns.stripplot(x=\"State\", y=\"Ag\", data=df1, hue=\"Sample\")\n"
   ]
  },
  {
   "cell_type": "code",
   "execution_count": 24,
   "metadata": {},
   "outputs": [
    {
     "data": {
      "image/png": "[encoded data removed]",
      "text/plain": [
       "<Figure size 432x288 with 1 Axes>"
      ]
     },
     "metadata": {
      "needs_background": "light"
     },
     "output_type": "display_data"
    }
   ],
   "source": [
    "#'Cr', 'Mn', 'Fe', 'Co', 'Ni', 'Cu',\n",
    "      # 'Zn', 'As', 'Se', 'Ag', 'Sn', 'Sb', 'Au', 'Pb', 'Bi'\n",
    "ax11 = sns.stripplot(x=\"State\", y=\"Sn\", data=df1, hue=\"Sample\")\n"
   ]
  },
  {
   "cell_type": "code",
   "execution_count": 25,
   "metadata": {},
   "outputs": [
    {
     "data": {
      "image/png": "[encoded data removed]",
      "text/plain": [
       "<Figure size 432x288 with 1 Axes>"
      ]
     },
     "metadata": {
      "needs_background": "light"
     },
     "output_type": "display_data"
    }
   ],
   "source": [
    "#'Cr', 'Mn', 'Fe', 'Co', 'Ni', 'Cu',\n",
    "      # 'Zn', 'As', 'Se', 'Ag', 'Sn', 'Sb', 'Au', 'Pb', 'Bi'\n",
    "\n",
    "ax12 = sns.stripplot(x=\"State\", y=\"Sb\", data=df1, hue=\"Sample\")\n"
   ]
  },
  {
   "cell_type": "code",
   "execution_count": 26,
   "metadata": {},
   "outputs": [
    {
     "data": {
      "image/png": "[encoded data removed]",
      "text/plain": [
       "<Figure size 432x288 with 1 Axes>"
      ]
     },
     "metadata": {
      "needs_background": "light"
     },
     "output_type": "display_data"
    }
   ],
   "source": [
    "#'Cr', 'Mn', 'Fe', 'Co', 'Ni', 'Cu',\n",
    "      # 'Zn', 'As', 'Se', 'Ag', 'Sn', 'Sb', 'Au', 'Pb', 'Bi'\n",
    "ax13 = sns.stripplot(x=\"State\", y=\"Au\", data=df1, hue=\"Sample\")\n"
   ]
  },
  {
   "cell_type": "code",
   "execution_count": 27,
   "metadata": {},
   "outputs": [
    {
     "data": {
      "image/png": "[encoded data removed]",
      "text/plain": [
       "<Figure size 432x288 with 1 Axes>"
      ]
     },
     "metadata": {
      "needs_background": "light"
     },
     "output_type": "display_data"
    }
   ],
   "source": [
    "#'Cr', 'Mn', 'Fe', 'Co', 'Ni', 'Cu',\n",
    "      # 'Zn', 'As', 'Se', 'Ag', 'Sn', 'Sb', 'Au', 'Pb', 'Bi'\n",
    "ax14 = sns.stripplot(x=\"State\", y=\"Pb\", data=df1, hue=\"Sample\")\n"
   ]
  },
  {
   "cell_type": "code",
   "execution_count": 28,
   "metadata": {},
   "outputs": [
    {
     "data": {
      "image/png": "[encoded data removed]",
      "text/plain": [
       "<Figure size 432x288 with 1 Axes>"
      ]
     },
     "metadata": {
      "needs_background": "light"
     },
     "output_type": "display_data"
    }
   ],
   "source": [
    "#'Cr', 'Mn', 'Fe', 'Co', 'Ni', 'Cu',\n",
    "      # 'Zn', 'As', 'Se', 'Ag', 'Sn', 'Sb', 'Au', 'Pb', 'Bi'\n",
    "\n",
    "ax15 = sns.stripplot(x=\"State\", y=\"Bi\", data=df1, hue=\"Sample\")"
   ]
  },
  {
   "cell_type": "code",
   "execution_count": 29,
   "metadata": {},
   "outputs": [],
   "source": [
    "df2 = pd.get_dummies(df1, columns=[\"Site_Burial\", \"State\", \"Sample\"], prefix=[\"Site_\", \"State_\", \"Sample_\"])"
   ]
  },
  {
   "cell_type": "code",
   "execution_count": 30,
   "metadata": {},
   "outputs": [
    {
     "data": {
      "text/html": [
       "<div>\n",
       "<style scoped>\n",
       "    .dataframe tbody tr th:only-of-type {\n",
       "        vertical-align: middle;\n",
       "    }\n",
       "\n",
       "    .dataframe tbody tr th {\n",
       "        vertical-align: top;\n",
       "    }\n",
       "\n",
       "    .dataframe thead th {\n",
       "        text-align: right;\n",
       "    }\n",
       "</style>\n",
       "<table border=\"1\" class=\"dataframe\">\n",
       "  <thead>\n",
       "    <tr style=\"text-align: right;\">\n",
       "      <th></th>\n",
       "      <th>Cr</th>\n",
       "      <th>Mn</th>\n",
       "      <th>Fe</th>\n",
       "      <th>Co</th>\n",
       "      <th>Ni</th>\n",
       "      <th>Cu</th>\n",
       "      <th>Zn</th>\n",
       "      <th>As</th>\n",
       "      <th>Se</th>\n",
       "      <th>Ag</th>\n",
       "      <th>Sn</th>\n",
       "      <th>Sb</th>\n",
       "      <th>Au</th>\n",
       "      <th>Pb</th>\n",
       "      <th>Bi</th>\n",
       "      <th>Site__Abbott Farm</th>\n",
       "      <th>Site__Lister</th>\n",
       "      <th>Site__Nassawango</th>\n",
       "      <th>Site__Non-Burial</th>\n",
       "      <th>Site__Rosenkrans</th>\n",
       "      <th>State__CA</th>\n",
       "      <th>State__MD</th>\n",
       "      <th>State__MI</th>\n",
       "      <th>State__NC</th>\n",
       "      <th>State__NJ</th>\n",
       "      <th>State__NY</th>\n",
       "      <th>State__PA</th>\n",
       "      <th>State__VA</th>\n",
       "      <th>Sample__Artifact</th>\n",
       "      <th>Sample__Geo</th>\n",
       "    </tr>\n",
       "    <tr>\n",
       "      <th>ANID</th>\n",
       "      <th></th>\n",
       "      <th></th>\n",
       "      <th></th>\n",
       "      <th></th>\n",
       "      <th></th>\n",
       "      <th></th>\n",
       "      <th></th>\n",
       "      <th></th>\n",
       "      <th></th>\n",
       "      <th></th>\n",
       "      <th></th>\n",
       "      <th></th>\n",
       "      <th></th>\n",
       "      <th></th>\n",
       "      <th></th>\n",
       "      <th></th>\n",
       "      <th></th>\n",
       "      <th></th>\n",
       "      <th></th>\n",
       "      <th></th>\n",
       "      <th></th>\n",
       "      <th></th>\n",
       "      <th></th>\n",
       "      <th></th>\n",
       "      <th></th>\n",
       "      <th></th>\n",
       "      <th></th>\n",
       "      <th></th>\n",
       "      <th></th>\n",
       "      <th></th>\n",
       "    </tr>\n",
       "  </thead>\n",
       "  <tbody>\n",
       "    <tr>\n",
       "      <th>GDL001</th>\n",
       "      <td>12.068216</td>\n",
       "      <td>0.0</td>\n",
       "      <td>25.160330</td>\n",
       "      <td>0.038567</td>\n",
       "      <td>0.202703</td>\n",
       "      <td>999697.982306</td>\n",
       "      <td>1.342716</td>\n",
       "      <td>0.489401</td>\n",
       "      <td>0.000000</td>\n",
       "      <td>262.042867</td>\n",
       "      <td>0.011563</td>\n",
       "      <td>0.046115</td>\n",
       "      <td>0.000000</td>\n",
       "      <td>0.574025</td>\n",
       "      <td>0.041191</td>\n",
       "      <td>0</td>\n",
       "      <td>1</td>\n",
       "      <td>0</td>\n",
       "      <td>0</td>\n",
       "      <td>0</td>\n",
       "      <td>0</td>\n",
       "      <td>0</td>\n",
       "      <td>0</td>\n",
       "      <td>0</td>\n",
       "      <td>1</td>\n",
       "      <td>0</td>\n",
       "      <td>0</td>\n",
       "      <td>0</td>\n",
       "      <td>1</td>\n",
       "      <td>0</td>\n",
       "    </tr>\n",
       "    <tr>\n",
       "      <th>GDL002</th>\n",
       "      <td>35.744190</td>\n",
       "      <td>0.0</td>\n",
       "      <td>393.468433</td>\n",
       "      <td>0.170943</td>\n",
       "      <td>1.140631</td>\n",
       "      <td>999478.141048</td>\n",
       "      <td>5.365543</td>\n",
       "      <td>22.372640</td>\n",
       "      <td>4.643938</td>\n",
       "      <td>53.488031</td>\n",
       "      <td>0.096246</td>\n",
       "      <td>0.230051</td>\n",
       "      <td>0.001335</td>\n",
       "      <td>3.908394</td>\n",
       "      <td>1.228576</td>\n",
       "      <td>0</td>\n",
       "      <td>1</td>\n",
       "      <td>0</td>\n",
       "      <td>0</td>\n",
       "      <td>0</td>\n",
       "      <td>0</td>\n",
       "      <td>0</td>\n",
       "      <td>0</td>\n",
       "      <td>0</td>\n",
       "      <td>1</td>\n",
       "      <td>0</td>\n",
       "      <td>0</td>\n",
       "      <td>0</td>\n",
       "      <td>1</td>\n",
       "      <td>0</td>\n",
       "    </tr>\n",
       "    <tr>\n",
       "      <th>GDL003</th>\n",
       "      <td>43.142662</td>\n",
       "      <td>0.0</td>\n",
       "      <td>1219.034329</td>\n",
       "      <td>0.378246</td>\n",
       "      <td>2.230752</td>\n",
       "      <td>998695.838465</td>\n",
       "      <td>5.219331</td>\n",
       "      <td>7.910353</td>\n",
       "      <td>1.254788</td>\n",
       "      <td>22.416825</td>\n",
       "      <td>0.039123</td>\n",
       "      <td>0.109676</td>\n",
       "      <td>0.000000</td>\n",
       "      <td>2.375983</td>\n",
       "      <td>0.049466</td>\n",
       "      <td>0</td>\n",
       "      <td>1</td>\n",
       "      <td>0</td>\n",
       "      <td>0</td>\n",
       "      <td>0</td>\n",
       "      <td>0</td>\n",
       "      <td>0</td>\n",
       "      <td>0</td>\n",
       "      <td>0</td>\n",
       "      <td>1</td>\n",
       "      <td>0</td>\n",
       "      <td>0</td>\n",
       "      <td>0</td>\n",
       "      <td>1</td>\n",
       "      <td>0</td>\n",
       "    </tr>\n",
       "    <tr>\n",
       "      <th>GDL004</th>\n",
       "      <td>336.280570</td>\n",
       "      <td>0.0</td>\n",
       "      <td>2111.190259</td>\n",
       "      <td>0.440908</td>\n",
       "      <td>4.409549</td>\n",
       "      <td>997489.230602</td>\n",
       "      <td>4.307899</td>\n",
       "      <td>32.675812</td>\n",
       "      <td>4.791199</td>\n",
       "      <td>11.801586</td>\n",
       "      <td>0.066135</td>\n",
       "      <td>0.248599</td>\n",
       "      <td>0.004525</td>\n",
       "      <td>4.540566</td>\n",
       "      <td>0.011791</td>\n",
       "      <td>0</td>\n",
       "      <td>1</td>\n",
       "      <td>0</td>\n",
       "      <td>0</td>\n",
       "      <td>0</td>\n",
       "      <td>0</td>\n",
       "      <td>0</td>\n",
       "      <td>0</td>\n",
       "      <td>0</td>\n",
       "      <td>1</td>\n",
       "      <td>0</td>\n",
       "      <td>0</td>\n",
       "      <td>0</td>\n",
       "      <td>1</td>\n",
       "      <td>0</td>\n",
       "    </tr>\n",
       "    <tr>\n",
       "      <th>GDL005</th>\n",
       "      <td>5.722844</td>\n",
       "      <td>0.0</td>\n",
       "      <td>75.097867</td>\n",
       "      <td>0.045153</td>\n",
       "      <td>0.209395</td>\n",
       "      <td>999872.356070</td>\n",
       "      <td>0.869652</td>\n",
       "      <td>6.342742</td>\n",
       "      <td>1.479191</td>\n",
       "      <td>37.475147</td>\n",
       "      <td>0.028733</td>\n",
       "      <td>0.032311</td>\n",
       "      <td>0.002385</td>\n",
       "      <td>0.282574</td>\n",
       "      <td>0.055938</td>\n",
       "      <td>0</td>\n",
       "      <td>1</td>\n",
       "      <td>0</td>\n",
       "      <td>0</td>\n",
       "      <td>0</td>\n",
       "      <td>0</td>\n",
       "      <td>0</td>\n",
       "      <td>0</td>\n",
       "      <td>0</td>\n",
       "      <td>1</td>\n",
       "      <td>0</td>\n",
       "      <td>0</td>\n",
       "      <td>0</td>\n",
       "      <td>1</td>\n",
       "      <td>0</td>\n",
       "    </tr>\n",
       "  </tbody>\n",
       "</table>\n",
       "</div>"
      ],
      "text/plain": [
       "                Cr   Mn           Fe        Co        Ni             Cu  \\\n",
       "ANID                                                                      \n",
       "GDL001   12.068216  0.0    25.160330  0.038567  0.202703  999697.982306   \n",
       "GDL002   35.744190  0.0   393.468433  0.170943  1.140631  999478.141048   \n",
       "GDL003   43.142662  0.0  1219.034329  0.378246  2.230752  998695.838465   \n",
       "GDL004  336.280570  0.0  2111.190259  0.440908  4.409549  997489.230602   \n",
       "GDL005    5.722844  0.0    75.097867  0.045153  0.209395  999872.356070   \n",
       "\n",
       "              Zn         As        Se          Ag        Sn        Sb  \\\n",
       "ANID                                                                    \n",
       "GDL001  1.342716   0.489401  0.000000  262.042867  0.011563  0.046115   \n",
       "GDL002  5.365543  22.372640  4.643938   53.488031  0.096246  0.230051   \n",
       "GDL003  5.219331   7.910353  1.254788   22.416825  0.039123  0.109676   \n",
       "GDL004  4.307899  32.675812  4.791199   11.801586  0.066135  0.248599   \n",
       "GDL005  0.869652   6.342742  1.479191   37.475147  0.028733  0.032311   \n",
       "\n",
       "              Au        Pb        Bi  Site__Abbott Farm  Site__Lister  \\\n",
       "ANID                                                                    \n",
       "GDL001  0.000000  0.574025  0.041191                  0             1   \n",
       "GDL002  0.001335  3.908394  1.228576                  0             1   \n",
       "GDL003  0.000000  2.375983  0.049466                  0             1   \n",
       "GDL004  0.004525  4.540566  0.011791                  0             1   \n",
       "GDL005  0.002385  0.282574  0.055938                  0             1   \n",
       "\n",
       "        Site__Nassawango  Site__Non-Burial  Site__Rosenkrans  State__CA  \\\n",
       "ANID                                                                      \n",
       "GDL001                 0                 0                 0          0   \n",
       "GDL002                 0                 0                 0          0   \n",
       "GDL003                 0                 0                 0          0   \n",
       "GDL004                 0                 0                 0          0   \n",
       "GDL005                 0                 0                 0          0   \n",
       "\n",
       "        State__MD  State__MI  State__NC  State__NJ  State__NY  State__PA  \\\n",
       "ANID                                                                       \n",
       "GDL001          0          0          0          1          0          0   \n",
       "GDL002          0          0          0          1          0          0   \n",
       "GDL003          0          0          0          1          0          0   \n",
       "GDL004          0          0          0          1          0          0   \n",
       "GDL005          0          0          0          1          0          0   \n",
       "\n",
       "        State__VA  Sample__Artifact  Sample__Geo  \n",
       "ANID                                              \n",
       "GDL001          0                 1            0  \n",
       "GDL002          0                 1            0  \n",
       "GDL003          0                 1            0  \n",
       "GDL004          0                 1            0  \n",
       "GDL005          0                 1            0  "
      ]
     },
     "execution_count": 30,
     "metadata": {},
     "output_type": "execute_result"
    }
   ],
   "source": [
    "pd.set_option('display.max_columns', 50)\n",
    "df2.head()"
   ]
  },
  {
   "cell_type": "code",
   "execution_count": 31,
   "metadata": {},
   "outputs": [],
   "source": [
    "df2.to_excel('Master_file_Lattanzi_Cu_2012_ES_v3.xlsx', header=True, index=True) "
   ]
  },
  {
   "cell_type": "code",
   "execution_count": null,
   "metadata": {},
   "outputs": [],
   "source": []
  }
 ],
 "metadata": {
  "kernelspec": {
   "display_name": "Python 3",
   "language": "python",
   "name": "python3"
  },
  "language_info": {
   "codemirror_mode": {
    "name": "ipython",
    "version": 3
   },
   "file_extension": ".py",
   "mimetype": "text/x-python",
   "name": "python",
   "nbconvert_exporter": "python",
   "pygments_lexer": "ipython3",
   "version": "3.7.3"
  }
 },
 "nbformat": 4,
 "nbformat_minor": 2
}
